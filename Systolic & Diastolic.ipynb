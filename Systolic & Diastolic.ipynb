{
  "nbformat": 4,
  "nbformat_minor": 0,
  "metadata": {
    "colab": {
      "provenance": []
    },
    "kernelspec": {
      "name": "python3",
      "display_name": "Python 3"
    },
    "language_info": {
      "name": "python"
    }
  },
  "cells": [
    {
      "cell_type": "code",
      "execution_count": null,
      "metadata": {
        "id": "JJFVqcLTn3Na"
      },
      "outputs": [],
      "source": [
        "import pandas as pd\n",
        "import numpy as np\n",
        "import matplotlib.pyplot as plt\n",
        "from sklearn.preprocessing import StandardScaler\n",
        "from sklearn.model_selection import train_test_split\n",
        "import os\n",
        "from sklearn.metrics import mean_squared_error, r2_score\n",
        "from sklearn.linear_model import LinearRegression\n",
        "from sklearn.svm import SVR\n",
        "\n",
        "#Melakukan Pembacaan File\n",
        "df_list = []\n",
        "for file in os.listdir(os.getcwd()):\n",
        "    if file.endswith('.csv'):\n",
        "        df_list.append(pd.read_csv(file))\n",
        "\n",
        "#Menyatukan File\n",
        "main_df = pd.concat(df_list, ignore_index=True)\n",
        "main_df.to_csv('PPG_Signal.csv', index=False)\n",
        "\n",
        "print(main_df)"
      ]
    },
    {
      "cell_type": "code",
      "source": [
        "#Membaca dan Mendeskripsikan data termasuk menghitung (MEAN, Standar Deviasi, Data Minimum dan Maximum )\n",
        "data = pd.read_csv('PPG_Signal.csv')\n",
        "data.describe()"
      ],
      "metadata": {
        "id": "v5eDepzE_Pxu"
      },
      "execution_count": null,
      "outputs": []
    },
    {
      "cell_type": "code",
      "source": [
        "#Plotting Data Sistolik Menggunakan Line Chart\n",
        "data['Mean_NBP_Sys'].plot()\n",
        "plt.show()"
      ],
      "metadata": {
        "id": "A8e5p4f_BliN"
      },
      "execution_count": null,
      "outputs": []
    },
    {
      "cell_type": "code",
      "source": [
        "#Plotting Data Diastolik Menggunakan Line Chart\n",
        "data['Mean_NBP_Dias'].plot()\n",
        "plt.show()"
      ],
      "metadata": {
        "id": "Fdymx96jCFSf"
      },
      "execution_count": null,
      "outputs": []
    },
    {
      "cell_type": "code",
      "source": [
        "#Menghilangkan Data NaN\n",
        "data[:] = np.nan_to_num(data)"
      ],
      "metadata": {
        "id": "k0qtWZORJruz"
      },
      "execution_count": 60,
      "outputs": []
    },
    {
      "cell_type": "markdown",
      "source": [
        "**PRE_PROCESSING**"
      ],
      "metadata": {
        "id": "crqfqyyhCcaZ"
      }
    },
    {
      "cell_type": "code",
      "source": [
        "#Data X adalah Data Tanpa Kolom Mean_NBP_Sys dan Mean_NBP_Dias. sedangkan data Y adalah Nilai dari kolom Sistolik dan Diastolik\n",
        "X = data.drop(['Mean_NBP_Sys', 'Mean_NBP_Dias'], axis=1)\n",
        "y_systolic = data['Mean_NBP_Sys']\n",
        "y_diastolic = data['Mean_NBP_Dias']"
      ],
      "metadata": {
        "id": "HKOh38ScCei7"
      },
      "execution_count": 61,
      "outputs": []
    },
    {
      "cell_type": "code",
      "source": [
        "#Library ini adalah untuk mengatasi data yang missing (hilang)\n",
        "from sklearn.impute import SimpleImputer\n",
        "\n",
        "imp = SimpleImputer(strategy='mean')\n",
        "\n",
        "X = imp.fit_transform(X)\n",
        "X_train, X_test, y_systolic_train, y_systolic_test, y_diastolic_train, y_diastolic_test = train_test_split(X, y_systolic, y_diastolic, test_size=0.4, random_state=54)\n",
        "\n",
        "scaler = StandardScaler()\n",
        "X_train = scaler.fit_transform(X_train)\n",
        "X_test = scaler.transform(X_test)"
      ],
      "metadata": {
        "id": "5x-vWDCACoWh"
      },
      "execution_count": 62,
      "outputs": []
    },
    {
      "cell_type": "markdown",
      "source": [
        "**TRAINING DATA**"
      ],
      "metadata": {
        "id": "NuFHK5-2IX36"
      }
    },
    {
      "cell_type": "code",
      "source": [
        "lr_systolic = LinearRegression()\n",
        "lr_systolic.fit(X_train, y_systolic_train)\n",
        "\n",
        "lr_diastolic = LinearRegression()\n",
        "lr_diastolic.fit(X_train, y_diastolic_train)\n",
        "\n",
        "y_systolic_pred_lr = lr_systolic.predict(X_test)\n",
        "y_diastolic_pred_lr = lr_diastolic.predict(X_test)\n",
        "\n",
        "svr_systolic = SVR(kernel='linear', gamma='auto')\n",
        "svr_systolic.fit(X_train, y_systolic_train)\n",
        "\n",
        "svr_diastolic = SVR(kernel='linear', gamma='auto')\n",
        "svr_diastolic.fit(X_train, y_diastolic_train)\n",
        "\n",
        "y_systolic_pred_svr = svr_systolic.predict(X_test)\n",
        "y_diastolic_pred_svr = svr_diastolic.predict(X_test)\n",
        "\n",
        "print(\"Linear Regression Systolic RMSE:\", np.sqrt(mean_squared_error(y_systolic_test, y_systolic_pred_lr)))\n",
        "print(\"Linear Regression Systolic R2:\", r2_score(y_systolic_test, y_systolic_pred_lr))\n",
        "\n",
        "print(\"Linear Regression Diastolic RMSE:\", np.sqrt(mean_squared_error(y_diastolic_test, y_diastolic_pred_lr)))\n",
        "print(\"Linear Regression Diastolic R2:\", r2_score(y_diastolic_test, y_diastolic_pred_lr))\n",
        "\n",
        "print(\"SVR Systolic RMSE:\", np.sqrt(mean_squared_error(y_systolic_test, y_systolic_pred_svr)))\n",
        "print(\"SVR Systolic R2:\", r2_score(y_systolic_test, y_systolic_pred_svr))\n",
        "\n",
        "print(\"SVR Diastolic RMSE:\", np.sqrt(mean_squared_error(y_diastolic_test, y_diastolic_pred_svr)))\n",
        "print(\"SVR Diastolic R2:\", r2_score(y_diastolic_test, y_diastolic_pred_svr))"
      ],
      "metadata": {
        "colab": {
          "base_uri": "https://localhost:8080/"
        },
        "id": "t495d6dDIeoO",
        "outputId": "07eb94ba-a564-4c0c-ce66-e9e0cdb4c0f0"
      },
      "execution_count": 63,
      "outputs": [
        {
          "output_type": "stream",
          "name": "stdout",
          "text": [
            "Linear Regression Systolic RMSE: 8.860853971880813e-14\n",
            "Linear Regression Systolic R2: 1.0\n",
            "Linear Regression Diastolic RMSE: 5.6539702699369345e-14\n",
            "Linear Regression Diastolic R2: 1.0\n",
            "SVR Systolic RMSE: 0.09913310517926278\n",
            "SVR Systolic R2: 0.999988555784781\n",
            "SVR Diastolic RMSE: 0.09998307019633879\n",
            "SVR Diastolic R2: 0.9999641004858109\n"
          ]
        }
      ]
    }
  ]
}